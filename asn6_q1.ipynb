{
  "nbformat": 4,
  "nbformat_minor": 0,
  "metadata": {
    "colab": {
      "name": "asn6-q1.ipynb",
      "provenance": [],
      "collapsed_sections": [],
      "include_colab_link": true
    },
    "kernelspec": {
      "display_name": "Python 3",
      "language": "python",
      "name": "python3"
    },
    "language_info": {
      "codemirror_mode": {
        "name": "ipython",
        "version": 3
      },
      "file_extension": ".py",
      "mimetype": "text/x-python",
      "name": "python",
      "nbconvert_exporter": "python",
      "pygments_lexer": "ipython3",
      "version": "3.7.7"
    },
    "pycharm": {
      "stem_cell": {
        "cell_type": "raw",
        "metadata": {
          "collapsed": false
        },
        "source": []
      }
    }
  },
  "cells": [
    {
      "cell_type": "markdown",
      "metadata": {
        "id": "view-in-github",
        "colab_type": "text"
      },
      "source": [
        "<a href=\"https://colab.research.google.com/github/BronsonSchultz/487_A6/blob/main/asn6_q1.ipynb\" target=\"_parent\"><img src=\"https://colab.research.google.com/assets/colab-badge.svg\" alt=\"Open In Colab\"/></a>"
      ]
    },
    {
      "cell_type": "markdown",
      "metadata": {
        "id": "SmSY8WCQpRP2"
      },
      "source": [
        "# Bronson Schultz, 11231230, bcs269\n",
        "## CMPT 487, A6, Q1"
      ]
    },
    {
      "cell_type": "markdown",
      "metadata": {
        "id": "yeIvKapTDKw1"
      },
      "source": [
        "# Import Libraries "
      ]
    },
    {
      "cell_type": "markdown",
      "metadata": {
        "id": "54svCJ-vDKw_"
      },
      "source": [
        "Import all the required Tensorflow and Keras libraries"
      ]
    },
    {
      "cell_type": "code",
      "metadata": {
        "id": "JWCODHE3DKxB"
      },
      "source": [
        "# THIS VERSION IS FOR TENSORFLOW v2.0 which has keras embedded\n",
        "# Note: Multibackend Keras is being discontinued after version 2.3.5.\n",
        "\n",
        "# Library imports\n",
        "from tensorflow.keras.models import load_model\n",
        "from tensorflow.keras.models import Sequential\n",
        "from tensorflow.keras.layers import Conv2D\n",
        "from tensorflow.keras.layers import MaxPooling2D\n",
        "from tensorflow.keras.layers import Flatten\n",
        "from tensorflow.keras.layers import Dense\n",
        "from tensorflow.keras.optimizers import Adam\n",
        "from tensorflow.keras.preprocessing import image\n",
        "from tensorflow.keras import regularizers \n",
        "\n",
        "import os as os\n",
        "import numpy as np\n",
        "import matplotlib.pyplot as plt\n",
        "\n",
        "# Dataset sizes\n",
        "num_train_images = 23000\n",
        "num_validation_images = 2000\n",
        "num_test_images = 399\n",
        "\n",
        "# Model Hyperparameters\n",
        "input_image_size = 64\n",
        "batch_size = 32\n",
        "num_training_epochs = 40\n",
        "learning_rate = 0.001\n",
        "l2_lambda = 0.01\n",
        "\n",
        "# Parameters derived from hyperparameters\n",
        "training_steps_per_epoch = int(num_train_images/batch_size)\n",
        "validation_steps_per_epoch = int(num_validation_images/batch_size)\n",
        "testing_steps_per_epoch = num_test_images/batch_size\n",
        "\n",
        "%matplotlib inline"
      ],
      "execution_count": null,
      "outputs": []
    },
    {
      "cell_type": "markdown",
      "metadata": {
        "id": "xIUltlrBDKxC"
      },
      "source": [
        " # Step 1: Design the CNN architecture. After designing the architecture, print it in iPython Notebook. \n"
      ]
    },
    {
      "cell_type": "code",
      "metadata": {
        "colab": {
          "base_uri": "https://localhost:8080/"
        },
        "id": "Aydhrl6KDKxD",
        "outputId": "0f6b79b7-e3ad-4a47-8f57-6ca2188e98ee"
      },
      "source": [
        "# NETWORK ARCHITECTURE\n",
        "\n",
        "# Initialize the CNN using the Sequential() function\n",
        "model = Sequential([\n",
        "                    # Add a convolution layer with 8 feature maps of shape (3,3), and input_shape=(64,64,3).\n",
        "                    # Using 'relu' for the activation function.\n",
        "                    Conv2D(filters=8, kernel_size=(3,3), activation=\"relu\", input_shape=(64,64,3)),\n",
        "\n",
        "                    # Add a max pooling layer, with a pool_size of (2,2)\n",
        "                    MaxPooling2D(pool_size=(2,2)),\n",
        "\n",
        "                    # Add three more pairs of convolution and max pooling layers.  Using 32, 64, and 128 feature maps, respectively,\n",
        "                    # for each successive convolutional layer.  Use pool_size of (2,2) for every max pooling lyaer.\n",
        "                    Conv2D(filters=32, kernel_size=(3,3), activation='relu'),\n",
        "                    MaxPooling2D(pool_size=(2,2)),\n",
        "                    Conv2D(filters=64, kernel_size=(3,3), activation='relu'),\n",
        "                    MaxPooling2D(pool_size=(2,2)),\n",
        "                    Conv2D(filters=128, kernel_size=(3,3), activation='relu'),\n",
        "                    MaxPooling2D(pool_size=(2,2)),\n",
        "\n",
        "                    # Add a flattening layer.\n",
        "                    Flatten(),\n",
        "\n",
        "                    # Add a fully connected layer with 128 units and the RELU activation function. This\n",
        "                    # will be a hidden layer.  Use the L2 kernel regularizer with a lambda of l2_lambda (defined above).\n",
        "                    Dense(128, activation='relu', kernel_regularizer='l2'),\n",
        "                    \n",
        "                    # Add a fully connected layer with 1 unit and the sigmoid activation function.  This\n",
        "                    # will be the output layer.\n",
        "                    Dense(1, activation='sigmoid')\n",
        "])\n",
        "\n",
        "\n",
        "# Create an Adam optimizer object with learning rate equal to learning_rate (defined above);\n",
        "opt = Adam(learning_rate=learning_rate)\n",
        "\n",
        "\n",
        "# Compile the CNN using the compile() method.  \n",
        "model.compile(\n",
        "    optimizer=opt,\n",
        "    loss='binary_crossentropy',\n",
        "    metrics=['accuracy']\n",
        ")\n",
        "\n",
        "#Print a Summary of the Architecture using the summary() method.\n",
        "model.summary()"
      ],
      "execution_count": null,
      "outputs": [
        {
          "output_type": "stream",
          "text": [
            "Model: \"sequential\"\n",
            "_________________________________________________________________\n",
            "Layer (type)                 Output Shape              Param #   \n",
            "=================================================================\n",
            "conv2d (Conv2D)              (None, 62, 62, 8)         224       \n",
            "_________________________________________________________________\n",
            "max_pooling2d (MaxPooling2D) (None, 31, 31, 8)         0         \n",
            "_________________________________________________________________\n",
            "conv2d_1 (Conv2D)            (None, 29, 29, 32)        2336      \n",
            "_________________________________________________________________\n",
            "max_pooling2d_1 (MaxPooling2 (None, 14, 14, 32)        0         \n",
            "_________________________________________________________________\n",
            "conv2d_2 (Conv2D)            (None, 12, 12, 64)        18496     \n",
            "_________________________________________________________________\n",
            "max_pooling2d_2 (MaxPooling2 (None, 6, 6, 64)          0         \n",
            "_________________________________________________________________\n",
            "conv2d_3 (Conv2D)            (None, 4, 4, 128)         73856     \n",
            "_________________________________________________________________\n",
            "max_pooling2d_3 (MaxPooling2 (None, 2, 2, 128)         0         \n",
            "_________________________________________________________________\n",
            "flatten (Flatten)            (None, 512)               0         \n",
            "_________________________________________________________________\n",
            "dense (Dense)                (None, 128)               65664     \n",
            "_________________________________________________________________\n",
            "dense_1 (Dense)              (None, 1)                 129       \n",
            "=================================================================\n",
            "Total params: 160,705\n",
            "Trainable params: 160,705\n",
            "Non-trainable params: 0\n",
            "_________________________________________________________________\n"
          ],
          "name": "stdout"
        }
      ]
    },
    {
      "cell_type": "markdown",
      "metadata": {
        "id": "LWmApyAeDKxE"
      },
      "source": [
        "# Step 2: Load Images and Prepare the Network for training"
      ]
    },
    {
      "cell_type": "code",
      "metadata": {
        "colab": {
          "base_uri": "https://localhost:8080/",
          "height": 128
        },
        "id": "O70gnKiyDKxE",
        "outputId": "0505fce0-9fbe-47a9-b802-16b439837a2e"
      },
      "source": [
        "#Train and Test ImageDataGenerator code\n",
        "\n",
        "# Create the ImageDataGenerator() for the training data.  \n",
        "# We want to re-scale the image pixel data to the range 0.0 to 1.0 by dividing by 255.0.  \n",
        "# Also, we want to use real-time data augmentation allowing horizontal flips, \n",
        "# and a modest amount of zooming and shearing. \n",
        "train_data_gen = image.ImageDataGenerator(rescale=1./255, shear_range=0.1, zoom_range=0.1, horizontal_flip=True)\n",
        "\n",
        "\n",
        "# Create the ImageDataGenerator() for the validation data.  It doesn't need any data augmentation\n",
        "valid_data_gen = image.ImageDataGenerator(rescale=1./255)\n",
        "\n",
        "\n",
        "# Load the training set using train_datagen.flow_from_directory().\n",
        "train_data = train_data_gen.flow_from_directory(\"train\", target_size=(input_image_size,input_image_size), batch_size=batch_size, class_mode='binary')\n",
        "\n",
        "# Load the validation dataset using validation_datagen.flow_from_directory(). \n",
        "valid_data = valid_data_gen.flow_from_directory(\"valid\", target_size=(input_image_size, input_image_size), batch_size=batch_size, class_mode='binary')\n",
        "\n"
      ],
      "execution_count": null,
      "outputs": [
        {
          "output_type": "stream",
          "text": [
            "Found 23000 images belonging to 2 classes.\n",
            "Found 2000 images belonging to 2 classes.\n"
          ],
          "name": "stdout"
        }
      ]
    },
    {
      "cell_type": "markdown",
      "metadata": {
        "id": "7PzbG6s9DKxF"
      },
      "source": [
        "# Step 3: Train the CNN Network"
      ]
    },
    {
      "cell_type": "code",
      "metadata": {
        "id": "HhtR0IrnDKxF",
        "jupyter": {
          "outputs_hidden": false
        },
        "outputId": "7ebdfd6e-9e1f-4ec0-9aa2-1e4d8c8600c2"
      },
      "source": [
        "# Train the CNN using the fit() function of your CNN.\n",
        "#\n",
        "# training_steps_per_epoch defined above as num_training_images / batch_size.  Since each step will process\n",
        "# batch_size images, this number of steps will run through the training set exactly once per eopch.  \n",
        "# This calculation results in steps_per_epoch = num_training_images / batch_size = 718 batches to make one pass through the training set.\n",
        "# This is, of course, done num_training_epochs times.\n",
        "#\n",
        "# Similarly, validation_steps_per_epoch is defined as num_validation_images / batch_size.  Again, this causes\n",
        "# one validation pass to run through the validation set exactly once.  \n",
        "# This calculation results in validation_steps = 2000/32 = 63 batches to make one pass through the validation set.\n",
        "\n",
        "# You should see the loss function and the accuracy improving quite a bit after each of the \n",
        "# first few epochs.  Then it should slow down.  If you allow it to run for more than 40 epochs \n",
        "# you probably won't see much additional improvement (for me, after 55 epochs it was no better \n",
        "# than it was after 40 epochs).\n",
        "\n",
        "# Expect a pause at the end of each epoch as it classifies images from the validation set.  The validation accuracy \n",
        "# should track the training accuracy fairly well.\n",
        "\n",
        "# This will take a while - maybe 2-3 hours.  \n",
        "\n",
        "history = model.fit(train_data,\n",
        "                    steps_per_epoch=training_steps_per_epoch,\n",
        "                    epochs=num_training_epochs,\n",
        "                    validation_data=valid_data,\n",
        "                    validation_steps=validation_steps_per_epoch,\n",
        "                    verbose=1,\n",
        "                    )\n",
        "\n"
      ],
      "execution_count": null,
      "outputs": [
        {
          "output_type": "stream",
          "text": [
            "WARNING:tensorflow:sample_weight modes were coerced from\n",
            "  ...\n",
            "    to  \n",
            "  ['...']\n",
            "WARNING:tensorflow:sample_weight modes were coerced from\n",
            "  ...\n",
            "    to  \n",
            "  ['...']\n",
            "Train for 718 steps, validate for 62 steps\n",
            "Epoch 1/40\n",
            "718/718 [==============================] - 450s 626ms/step - loss: 0.7405 - accuracy: 0.6078 - val_loss: 0.6175 - val_accuracy: 0.6759\n",
            "Epoch 2/40\n",
            "718/718 [==============================] - 487s 678ms/step - loss: 0.5982 - accuracy: 0.6860 - val_loss: 0.5607 - val_accuracy: 0.7182\n",
            "Epoch 3/40\n",
            "718/718 [==============================] - 487s 678ms/step - loss: 0.5458 - accuracy: 0.7317 - val_loss: 0.5352 - val_accuracy: 0.7394\n",
            "Epoch 4/40\n",
            "718/718 [==============================] - 500s 697ms/step - loss: 0.5039 - accuracy: 0.7605 - val_loss: 0.5373 - val_accuracy: 0.7525\n",
            "Epoch 5/40\n",
            "718/718 [==============================] - 387s 539ms/step - loss: 0.4684 - accuracy: 0.7832 - val_loss: 0.4492 - val_accuracy: 0.7959\n",
            "Epoch 6/40\n",
            "718/718 [==============================] - 284s 395ms/step - loss: 0.4295 - accuracy: 0.8060 - val_loss: 0.4027 - val_accuracy: 0.8271\n",
            "Epoch 7/40\n",
            "718/718 [==============================] - 277s 386ms/step - loss: 0.4107 - accuracy: 0.8173 - val_loss: 0.4115 - val_accuracy: 0.8266\n",
            "Epoch 8/40\n",
            "718/718 [==============================] - 287s 399ms/step - loss: 0.3918 - accuracy: 0.8268 - val_loss: 0.4910 - val_accuracy: 0.7722\n",
            "Epoch 9/40\n",
            "718/718 [==============================] - 276s 385ms/step - loss: 0.3734 - accuracy: 0.8369 - val_loss: 0.3716 - val_accuracy: 0.8311\n",
            "Epoch 10/40\n",
            "718/718 [==============================] - 273s 380ms/step - loss: 0.3602 - accuracy: 0.8441 - val_loss: 0.3622 - val_accuracy: 0.8392\n",
            "Epoch 11/40\n",
            "718/718 [==============================] - 274s 381ms/step - loss: 0.3465 - accuracy: 0.8511 - val_loss: 0.3974 - val_accuracy: 0.8281\n",
            "Epoch 12/40\n",
            "718/718 [==============================] - 272s 379ms/step - loss: 0.3405 - accuracy: 0.8548 - val_loss: 0.3581 - val_accuracy: 0.8513\n",
            "Epoch 13/40\n",
            "718/718 [==============================] - 337s 469ms/step - loss: 0.3303 - accuracy: 0.8601 - val_loss: 0.3464 - val_accuracy: 0.8493\n",
            "Epoch 14/40\n",
            "718/718 [==============================] - 332s 463ms/step - loss: 0.3188 - accuracy: 0.8634 - val_loss: 0.3589 - val_accuracy: 0.8453\n",
            "Epoch 15/40\n",
            "718/718 [==============================] - 310s 432ms/step - loss: 0.3112 - accuracy: 0.8685 - val_loss: 0.3283 - val_accuracy: 0.8629\n",
            "Epoch 16/40\n",
            "718/718 [==============================] - 272s 379ms/step - loss: 0.3021 - accuracy: 0.8712 - val_loss: 0.3356 - val_accuracy: 0.8564\n",
            "Epoch 17/40\n",
            "718/718 [==============================] - 271s 378ms/step - loss: 0.2966 - accuracy: 0.8753 - val_loss: 0.3481 - val_accuracy: 0.8463\n",
            "Epoch 18/40\n",
            "718/718 [==============================] - 271s 377ms/step - loss: 0.2926 - accuracy: 0.8779 - val_loss: 0.3195 - val_accuracy: 0.8664\n",
            "Epoch 19/40\n",
            "718/718 [==============================] - 269s 375ms/step - loss: 0.2899 - accuracy: 0.8771 - val_loss: 0.3112 - val_accuracy: 0.8775\n",
            "Epoch 20/40\n",
            "718/718 [==============================] - 273s 380ms/step - loss: 0.2851 - accuracy: 0.8804 - val_loss: 0.4045 - val_accuracy: 0.8135\n",
            "Epoch 21/40\n",
            "718/718 [==============================] - 265s 369ms/step - loss: 0.2706 - accuracy: 0.8871 - val_loss: 0.3261 - val_accuracy: 0.8639\n",
            "Epoch 22/40\n",
            "718/718 [==============================] - 276s 385ms/step - loss: 0.2729 - accuracy: 0.8890 - val_loss: 0.3210 - val_accuracy: 0.8639\n",
            "Epoch 23/40\n",
            "718/718 [==============================] - 271s 378ms/step - loss: 0.2698 - accuracy: 0.8890 - val_loss: 0.3561 - val_accuracy: 0.8438\n",
            "Epoch 24/40\n",
            "718/718 [==============================] - 269s 374ms/step - loss: 0.2613 - accuracy: 0.8924 - val_loss: 0.3090 - val_accuracy: 0.8755\n",
            "Epoch 25/40\n",
            "718/718 [==============================] - 309s 430ms/step - loss: 0.2580 - accuracy: 0.8932 - val_loss: 0.3228 - val_accuracy: 0.8649\n",
            "Epoch 26/40\n",
            "718/718 [==============================] - 274s 382ms/step - loss: 0.2507 - accuracy: 0.8973 - val_loss: 0.3359 - val_accuracy: 0.8508\n",
            "Epoch 27/40\n",
            "718/718 [==============================] - 274s 382ms/step - loss: 0.2488 - accuracy: 0.8982 - val_loss: 0.3173 - val_accuracy: 0.8765\n",
            "Epoch 28/40\n",
            "718/718 [==============================] - 269s 375ms/step - loss: 0.2442 - accuracy: 0.8993 - val_loss: 0.3317 - val_accuracy: 0.8649\n",
            "Epoch 29/40\n",
            "718/718 [==============================] - 274s 382ms/step - loss: 0.2406 - accuracy: 0.9040 - val_loss: 0.3117 - val_accuracy: 0.8740\n",
            "Epoch 30/40\n",
            "718/718 [==============================] - 276s 384ms/step - loss: 0.2383 - accuracy: 0.9030 - val_loss: 0.3058 - val_accuracy: 0.8695\n",
            "Epoch 31/40\n",
            "718/718 [==============================] - 269s 375ms/step - loss: 0.2292 - accuracy: 0.9090 - val_loss: 0.2957 - val_accuracy: 0.8826\n",
            "Epoch 32/40\n",
            "718/718 [==============================] - 270s 376ms/step - loss: 0.2317 - accuracy: 0.9068 - val_loss: 0.3152 - val_accuracy: 0.8700\n",
            "Epoch 33/40\n",
            "718/718 [==============================] - 275s 382ms/step - loss: 0.2213 - accuracy: 0.9104 - val_loss: 0.3210 - val_accuracy: 0.8690\n",
            "Epoch 34/40\n",
            "718/718 [==============================] - 277s 386ms/step - loss: 0.2211 - accuracy: 0.9130 - val_loss: 0.3384 - val_accuracy: 0.8669\n",
            "Epoch 35/40\n",
            "718/718 [==============================] - 269s 375ms/step - loss: 0.2204 - accuracy: 0.9113 - val_loss: 0.3287 - val_accuracy: 0.8659\n",
            "Epoch 36/40\n",
            "718/718 [==============================] - 272s 379ms/step - loss: 0.2128 - accuracy: 0.9144 - val_loss: 0.3094 - val_accuracy: 0.8705\n",
            "Epoch 37/40\n",
            "718/718 [==============================] - 273s 380ms/step - loss: 0.2149 - accuracy: 0.9133 - val_loss: 0.3345 - val_accuracy: 0.8679\n",
            "Epoch 38/40\n",
            "718/718 [==============================] - 272s 378ms/step - loss: 0.2070 - accuracy: 0.9186 - val_loss: 0.3420 - val_accuracy: 0.8720\n",
            "Epoch 39/40\n",
            "718/718 [==============================] - 273s 380ms/step - loss: 0.2119 - accuracy: 0.9175 - val_loss: 0.2971 - val_accuracy: 0.8841\n",
            "Epoch 40/40\n",
            "718/718 [==============================] - 272s 378ms/step - loss: 0.2039 - accuracy: 0.9196 - val_loss: 0.3083 - val_accuracy: 0.8770\n"
          ],
          "name": "stdout"
        }
      ]
    },
    {
      "cell_type": "markdown",
      "metadata": {
        "id": "FVHOIDOQDKxG"
      },
      "source": [
        "# Step 4: Save the model and weights for prediction"
      ]
    },
    {
      "cell_type": "code",
      "metadata": {
        "id": "zu7ZuWV3DKxH",
        "outputId": "31c4a928-cb7f-428a-e403-105389a7f816"
      },
      "source": [
        "# Save the model using the save() method of the CNN model.\n",
        "\n",
        "model.save('Cat-Dog-64x64-4layer-maxpooling.h5')\n",
        "print(\"Saved model to disk\")"
      ],
      "execution_count": null,
      "outputs": [
        {
          "output_type": "stream",
          "text": [
            "Saved model to disk\n"
          ],
          "name": "stdout"
        }
      ]
    },
    {
      "cell_type": "markdown",
      "metadata": {
        "id": "YYrYXdoIDKxH"
      },
      "source": [
        "# Step 5: Plot the training and Validation Loss/Accuracy"
      ]
    },
    {
      "cell_type": "code",
      "metadata": {
        "id": "fjJY8BpaDKxH",
        "outputId": "3fb008bd-7207-4ab6-a904-19336873c38f"
      },
      "source": [
        "# Use the history of the training and validation accuracy and loss \n",
        "# from the history object returned by model.fit_generator().\n",
        "#\n",
        "# e.g. history.history['accuracy'] is an array of the training accuracy for each epoch,\n",
        "plt.title(\"Custom CNN Training & Validation Accuracy Over 40 Epochs\")\n",
        "plt.plot(history.history['accuracy'], label=\"training\")\n",
        "plt.plot(history.history['val_accuracy'], label='validation')\n",
        "plt.legend()\n",
        "plt.show()\n",
        "\n",
        "plt.title(\"Custom CNN Training & Validation Loss Over 40 Epochs\")\n",
        "plt.plot(history.history['loss'], label='training')\n",
        "plt.plot(history.history['val_loss'], label='validation')\n",
        "plt.legend()\n",
        "plt.show()"
      ],
      "execution_count": null,
      "outputs": [
        {
          "output_type": "display_data",
          "data": {
            "image/png": "[encoded data removed]",
            "text/plain": [
              "<Figure size 432x288 with 1 Axes>"
            ]
          },
          "metadata": {
            "tags": [],
            "needs_background": "light"
          }
        },
        {
          "output_type": "display_data",
          "data": {
            "image/png": "[encoded data removed]",
            "text/plain": [
              "<Figure size 432x288 with 1 Axes>"
            ]
          },
          "metadata": {
            "tags": [],
            "needs_background": "light"
          }
        }
      ]
    },
    {
      "cell_type": "markdown",
      "metadata": {
        "id": "Pjpo9xVnDKxI"
      },
      "source": [
        "## Interpreting the Graphs\n",
        "\n",
        "Answer the following questions directly in this block (if you can't produce the graphs yourself, answer based on the sample outputs in the assignment PDF):\n",
        "\n",
        "1. The graphs suggest there may be a problem with our network.  What is it?\n",
        "\n",
        "In both graphs we can see the gap between the training metrics and the valididation metrics grow as we train past around the 10th epoch. Training accuracy keeps getting higher, and training loss keeps getting lower. But, validation accuracy and loss flatline (on average over the whole graph). This means that past that 10 epoch point, the model is overfitting to the training data.\n",
        "\n",
        "2. What is it about the graphs that tells you that this is a problem?\n",
        "\n",
        "As I stated above, the validation and training metrics start diverging as training time gets longer and longer. \n",
        "If we weren't overfitting, the validation accuracy/loss would stay close to the training accuracy/loss line. \n",
        "Overfitting is inevitable if we train for long enough, but we can only find that point by training past it.  \n",
        "\n"
      ]
    },
    {
      "cell_type": "markdown",
      "metadata": {
        "id": "cq6dZBN0DKxI"
      },
      "source": [
        "# Step 6: Predict Doc/Cat using the Trained Model"
      ]
    },
    {
      "cell_type": "code",
      "metadata": {
        "id": "BPne8YzrDKxI",
        "outputId": "92e92fa5-2514-4831-e94b-2f50ae23f2f1"
      },
      "source": [
        "# load the model from the disk\n",
        "model = load_model('Cat-Dog-64x64-4layer-maxpooling.h5')\n",
        "\n",
        "\n",
        "# create a data generator for our test set, rescaling the colour values between 0 and 1\n",
        "test_datagen = image.ImageDataGenerator(rescale=1./255)\n",
        "\n",
        "# pass each of our test images through the generator\n",
        "generator = test_datagen.flow_from_directory(\"test1\", target_size=(input_image_size, input_image_size), batch_size=batch_size, class_mode=None, shuffle=False)\n",
        "\n",
        "# Now call model.predict() on the generator.\n",
        "\n",
        "probabilities = model.predict(generator)\n",
        "\n",
        "# take the 'probabilities' array, above, and convert to an array y_pred which is equal to 1 if \n",
        "# probabilities > .5, and 0 otherwise.  Also use np.squeeze() to remove the second dimension \n",
        "# of the array (which has length 1 and is not needed) so that y_pred has shape (499,), i.e. a 1-D array.  \n",
        "\n",
        "y_pred = np.squeeze(probabilities > 0.5)\n",
        "\n",
        "\n",
        "# Compare y_pred to generator.classes, which are the correct class labels, and compute and print out the classification accuracy.\n",
        "\n",
        "accuracy = sum(y_pred == generator.classes) / len(y_pred)\n",
        "print('The classification rate is', accuracy)\n",
        "                                        "
      ],
      "execution_count": null,
      "outputs": [
        {
          "output_type": "stream",
          "text": [
            "Found 399 images belonging to 2 classes.\n",
            "The classification rate is 0.8696741854636592\n"
          ],
          "name": "stdout"
        }
      ]
    },
    {
      "cell_type": "code",
      "metadata": {
        "id": "BSmoMAF3DKxJ"
      },
      "source": [
        ""
      ],
      "execution_count": null,
      "outputs": []
    }
  ]
}